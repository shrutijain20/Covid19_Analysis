{
 "cells": [
  {
   "cell_type": "markdown",
   "metadata": {
    "colab_type": "text",
    "id": "view-in-github"
   },
   "source": [
    "<a href=\"https://colab.research.google.com/github/shrutijain20/Covid19_Analysis/blob/master/ML_PROJECT_COVID19.ipynb\" target=\"_parent\"><img src=\"https://colab.research.google.com/assets/colab-badge.svg\" alt=\"Open In Colab\"/></a>"
   ]
  },
  {
   "cell_type": "markdown",
   "metadata": {
    "colab_type": "text",
    "id": "eLrVi4d_7Yvc"
   },
   "source": [
    "---\n",
    " Machine learning Project \n",
    "\n",
    "---\n",
    "# ***Corona virus (COVID19) predictions project***\n",
    "\n",
    ">*Today, the world is facing a widespread spread of the corona virus and an increase in the number of infections and deaths due to this disease, wishing safety and health for all.*\n",
    "\n",
    "**Aim :** Predict the number of infected people and the number of deaths of coronavirus.\n",
    "\n",
    "**DataSet :** We used data for the **United States** to train our model and we got data for **95 days** that includes the date of the day and the number of people with the disease and for the data of the dead we got data for **60 days** and also includes the date of the day and the number of deaths due to disease.\n",
    "\n",
    "**We used 3 types of different model :**\n",
    "\n",
    "1. *Linear regression with log values*\n",
    "2. *Support Vector Regression (SVR)*\n",
    "3. *Artificial Neutral Network (MLPRegressor)* \n",
    "\n",
    "\n",
    "\n",
    "\n",
    "\n",
    "\n",
    "\n",
    "\n",
    "\n",
    "\n",
    "\n",
    "\n",
    "\n",
    "\n"
   ]
  },
  {
   "cell_type": "markdown",
   "metadata": {
    "colab_type": "text",
    "id": "wi6PePOgqWL0"
   },
   "source": [
    "# **Import Libraries** \n",
    "\n",
    "\n",
    "\n"
   ]
  },
  {
   "cell_type": "code",
   "execution_count": 5,
   "metadata": {
    "colab": {},
    "colab_type": "code",
    "id": "10aRGtTtqXKj"
   },
   "outputs": [],
   "source": [
    "import pandas as pd\n",
    "import numpy as np\n",
    "import math\n",
    "import matplotlib.pyplot as plt\n",
    "from sklearn.metrics import r2_score\n",
    "from sklearn.metrics import mean_squared_error\n",
    "from sklearn.model_selection import KFold\n",
    "from sklearn.linear_model import LinearRegression\n",
    "from sklearn.svm import SVR\n",
    "from sklearn.neural_network import MLPRegressor\n",
    "from sklearn.model_selection import train_test_split\n"
   ]
  },
  {
   "cell_type": "code",
   "execution_count": null,
   "metadata": {},
   "outputs": [],
   "source": []
  },
  {
   "cell_type": "markdown",
   "metadata": {
    "colab_type": "text",
    "id": "6JLhdjzyLNs0"
   },
   "source": [
    "# **Infected**"
   ]
  },
  {
   "cell_type": "markdown",
   "metadata": {
    "colab_type": "text",
    "id": "ViIWNV6p3cqQ"
   },
   "source": [
    "## **Preparing Infected data**"
   ]
  },
  {
   "cell_type": "code",
   "execution_count": 6,
   "metadata": {
    "colab": {
     "base_uri": "https://localhost:8080/",
     "height": 462
    },
    "colab_type": "code",
    "id": "l7EsMFV3JUdv",
    "outputId": "4a3f40e7-1b14-4514-b09f-b0810d636c38"
   },
   "outputs": [
    {
     "data": {
      "text/html": [
       "<div>\n",
       "<style scoped>\n",
       "    .dataframe tbody tr th:only-of-type {\n",
       "        vertical-align: middle;\n",
       "    }\n",
       "\n",
       "    .dataframe tbody tr th {\n",
       "        vertical-align: top;\n",
       "    }\n",
       "\n",
       "    .dataframe thead th {\n",
       "        text-align: right;\n",
       "    }\n",
       "</style>\n",
       "<table border=\"1\" class=\"dataframe\">\n",
       "  <thead>\n",
       "    <tr style=\"text-align: right;\">\n",
       "      <th></th>\n",
       "      <th>num_of_date</th>\n",
       "      <th>num_of_patients</th>\n",
       "      <th>Date_test</th>\n",
       "      <th>num_of_date_test</th>\n",
       "      <th>num_of_patients_test</th>\n",
       "    </tr>\n",
       "    <tr>\n",
       "      <th>Date</th>\n",
       "      <th></th>\n",
       "      <th></th>\n",
       "      <th></th>\n",
       "      <th></th>\n",
       "      <th></th>\n",
       "    </tr>\n",
       "  </thead>\n",
       "  <tbody>\n",
       "    <tr>\n",
       "      <th>2020-01-21</th>\n",
       "      <td>1</td>\n",
       "      <td>1</td>\n",
       "      <td>2020-02-05</td>\n",
       "      <td>16.0</td>\n",
       "      <td>11.0</td>\n",
       "    </tr>\n",
       "    <tr>\n",
       "      <th>2020-01-22</th>\n",
       "      <td>2</td>\n",
       "      <td>1</td>\n",
       "      <td>2020-02-16</td>\n",
       "      <td>27.0</td>\n",
       "      <td>13.0</td>\n",
       "    </tr>\n",
       "    <tr>\n",
       "      <th>2020-01-23</th>\n",
       "      <td>3</td>\n",
       "      <td>1</td>\n",
       "      <td>2020-02-22</td>\n",
       "      <td>33.0</td>\n",
       "      <td>15.0</td>\n",
       "    </tr>\n",
       "    <tr>\n",
       "      <th>2020-01-24</th>\n",
       "      <td>4</td>\n",
       "      <td>2</td>\n",
       "      <td>2020-02-27</td>\n",
       "      <td>38.0</td>\n",
       "      <td>58.0</td>\n",
       "    </tr>\n",
       "    <tr>\n",
       "      <th>2020-01-25</th>\n",
       "      <td>5</td>\n",
       "      <td>2</td>\n",
       "      <td>2020-03-03</td>\n",
       "      <td>43.0</td>\n",
       "      <td>118.0</td>\n",
       "    </tr>\n",
       "    <tr>\n",
       "      <th>2020-01-26</th>\n",
       "      <td>6</td>\n",
       "      <td>5</td>\n",
       "      <td>2020-03-05</td>\n",
       "      <td>45.0</td>\n",
       "      <td>217.0</td>\n",
       "    </tr>\n",
       "    <tr>\n",
       "      <th>2020-01-27</th>\n",
       "      <td>7</td>\n",
       "      <td>5</td>\n",
       "      <td>2020-03-12</td>\n",
       "      <td>52.0</td>\n",
       "      <td>1663.0</td>\n",
       "    </tr>\n",
       "    <tr>\n",
       "      <th>2020-01-28</th>\n",
       "      <td>8</td>\n",
       "      <td>5</td>\n",
       "      <td>2020-03-23</td>\n",
       "      <td>63.0</td>\n",
       "      <td>43847.0</td>\n",
       "    </tr>\n",
       "    <tr>\n",
       "      <th>2020-01-29</th>\n",
       "      <td>9</td>\n",
       "      <td>5</td>\n",
       "      <td>2020-03-30</td>\n",
       "      <td>70.0</td>\n",
       "      <td>161807.0</td>\n",
       "    </tr>\n",
       "    <tr>\n",
       "      <th>2020-01-30</th>\n",
       "      <td>10</td>\n",
       "      <td>5</td>\n",
       "      <td>2020-04-05</td>\n",
       "      <td>76.0</td>\n",
       "      <td>312237.0</td>\n",
       "    </tr>\n",
       "    <tr>\n",
       "      <th>2020-01-31</th>\n",
       "      <td>11</td>\n",
       "      <td>7</td>\n",
       "      <td>2020-04-10</td>\n",
       "      <td>80.0</td>\n",
       "      <td>460252.0</td>\n",
       "    </tr>\n",
       "    <tr>\n",
       "      <th>2020-02-01</th>\n",
       "      <td>12</td>\n",
       "      <td>8</td>\n",
       "      <td>2020-04-19</td>\n",
       "      <td>89.0</td>\n",
       "      <td>657996.0</td>\n",
       "    </tr>\n",
       "    <tr>\n",
       "      <th>2020-02-02</th>\n",
       "      <td>13</td>\n",
       "      <td>8</td>\n",
       "      <td>NaN</td>\n",
       "      <td>NaN</td>\n",
       "      <td>NaN</td>\n",
       "    </tr>\n",
       "  </tbody>\n",
       "</table>\n",
       "</div>"
      ],
      "text/plain": [
       "            num_of_date  num_of_patients   Date_test  num_of_date_test  \\\n",
       "Date                                                                     \n",
       "2020-01-21            1                1  2020-02-05              16.0   \n",
       "2020-01-22            2                1  2020-02-16              27.0   \n",
       "2020-01-23            3                1  2020-02-22              33.0   \n",
       "2020-01-24            4                2  2020-02-27              38.0   \n",
       "2020-01-25            5                2  2020-03-03              43.0   \n",
       "2020-01-26            6                5  2020-03-05              45.0   \n",
       "2020-01-27            7                5  2020-03-12              52.0   \n",
       "2020-01-28            8                5  2020-03-23              63.0   \n",
       "2020-01-29            9                5  2020-03-30              70.0   \n",
       "2020-01-30           10                5  2020-04-05              76.0   \n",
       "2020-01-31           11                7  2020-04-10              80.0   \n",
       "2020-02-01           12                8  2020-04-19              89.0   \n",
       "2020-02-02           13                8         NaN               NaN   \n",
       "\n",
       "            num_of_patients_test  \n",
       "Date                              \n",
       "2020-01-21                  11.0  \n",
       "2020-01-22                  13.0  \n",
       "2020-01-23                  15.0  \n",
       "2020-01-24                  58.0  \n",
       "2020-01-25                 118.0  \n",
       "2020-01-26                 217.0  \n",
       "2020-01-27                1663.0  \n",
       "2020-01-28               43847.0  \n",
       "2020-01-29              161807.0  \n",
       "2020-01-30              312237.0  \n",
       "2020-01-31              460252.0  \n",
       "2020-02-01              657996.0  \n",
       "2020-02-02                   NaN  "
      ]
     },
     "execution_count": 6,
     "metadata": {},
     "output_type": "execute_result"
    }
   ],
   "source": [
    "path='https://raw.githubusercontent.com/shrutijain20/Covid19_Analysis/main/Infected.csv'\n",
    "ds = pd.read_csv(path, index_col=0)\n",
    "ds.head(13)"
   ]
  },
  {
   "cell_type": "code",
   "execution_count": 7,
   "metadata": {
    "cellView": "code",
    "colab": {},
    "colab_type": "code",
    "id": "CqWDmrXuLMPu"
   },
   "outputs": [],
   "source": [
    "x = ds['num_of_date']\n",
    "y = ds['num_of_patients']\n",
    "x_test_patient = ds['num_of_date_test'][:12]\n",
    "y_test_patient = ds['num_of_patients_test'][:12]\n",
    "x_prediction =[[95],[96],[97],[98],[99],[100],[101]]"
   ]
  },
  {
   "cell_type": "markdown",
   "metadata": {
    "colab_type": "text",
    "id": "WPHyTv283eTV"
   },
   "source": [
    "## **linear_regression**"
   ]
  },
  {
   "cell_type": "markdown",
   "metadata": {
    "colab_type": "text",
    "id": "o-IgwuyLhpfC"
   },
   "source": [
    "### Code & Validation"
   ]
  },
  {
   "cell_type": "code",
   "execution_count": 8,
   "metadata": {
    "colab": {
     "base_uri": "https://localhost:8080/",
     "height": 34
    },
    "colab_type": "code",
    "id": "z6i49PcWdEZK",
    "outputId": "7a268fdf-64ec-4ea0-909f-db5a5e360515"
   },
   "outputs": [
    {
     "name": "stdout",
     "output_type": "stream",
     "text": [
      "Average score for Linear Regression: 0.947731350509466\n"
     ]
    }
   ],
   "source": [
    "\n",
    "linear_regression=LinearRegression()\n",
    "\n",
    "yy=np.log10(y)\n",
    "\n",
    "scores = []\n",
    "######################################################################################################################\n",
    "Linear_Regression = LinearRegression()\n",
    "######################################################################################################################\n",
    "cv = KFold(n_splits=10, random_state=1, shuffle=True)\n",
    "for train_index, test_index in cv.split(x):\n",
    "    X_train, X_test, y_train, y_test , yy_train, yy_test= x[train_index], x[test_index], y[train_index], y[test_index], yy[train_index], yy[test_index]\n",
    "    Linear_Regression.fit(X_train.values.reshape(-1,1), yy_train)\n",
    "    scores.append(Linear_Regression.score(X_test.values.reshape(-1,1), yy_test))\n",
    "    \n",
    "print(\"Average score for Linear Regression:\",sum(scores)/len(scores))    \n"
   ]
  },
  {
   "cell_type": "markdown",
   "metadata": {
    "colab_type": "text",
    "id": "c-HR1_nCk5f4"
   },
   "source": [
    "**After the validation we evaluate the Linear Model:**"
   ]
  },
  {
   "cell_type": "markdown",
   "metadata": {
    "colab_type": "text",
    "id": "R-UCKGm_HFcw"
   },
   "source": [
    "### Evaluation"
   ]
  },
  {
   "cell_type": "code",
   "execution_count": 9,
   "metadata": {
    "colab": {
     "base_uri": "https://localhost:8080/",
     "height": 34
    },
    "colab_type": "code",
    "id": "LsuV_EsWkcr5",
    "outputId": "821bead4-e872-447a-ec4d-ff4067a2599e"
   },
   "outputs": [
    {
     "name": "stdout",
     "output_type": "stream",
     "text": [
      "Final Evaluation Score for Linear Regression : 0.9303292029481323\n"
     ]
    }
   ],
   "source": [
    "Linear_Regression.fit(x.values.reshape(-1,1), yy)\n",
    "y_test_patient_log=np.log10(y_test_patient)\n",
    "evaluation_1 =Linear_Regression.predict(x_test_patient.values.reshape(-1,1))\n",
    "score=Linear_Regression.score(x_test_patient.values.reshape(-1,1), y_test_patient_log)   \n",
    "print(\"Final Evaluation Score for Linear Regression :\",score)"
   ]
  },
  {
   "cell_type": "markdown",
   "metadata": {
    "colab_type": "text",
    "id": "YmMkniQa7U7r"
   },
   "source": [
    "### Prediction for new days"
   ]
  },
  {
   "cell_type": "code",
   "execution_count": 10,
   "metadata": {
    "colab": {
     "base_uri": "https://localhost:8080/",
     "height": 151
    },
    "colab_type": "code",
    "id": "gOTY4y8V7ttX",
    "outputId": "a4fe4015-2b44-4058-f521-756104b1f493"
   },
   "outputs": [
    {
     "name": "stdout",
     "output_type": "stream",
     "text": [
      "Evaluation for expecting 6 days in future in Linear_Regression:\n",
      "day [95] = 2750230\n",
      "day [96] = 3242796\n",
      "day [97] = 3823580\n",
      "day [98] = 4508382\n",
      "day [99] = 5315832\n",
      "day [100] = 6267896\n",
      "day [101] = 7390475\n"
     ]
    }
   ],
   "source": [
    "print('Evaluation for expecting 6 days in future in Linear_Regression:')\n",
    "for predict in x_prediction:\n",
    "  print('day',predict,'=',int(10**Linear_Regression.predict([predict])))"
   ]
  },
  {
   "cell_type": "markdown",
   "metadata": {
    "colab_type": "text",
    "id": "FiGhZcFIh3nX"
   },
   "source": [
    "### plot"
   ]
  },
  {
   "cell_type": "markdown",
   "metadata": {
    "colab_type": "text",
    "id": "OPxUIiDLQhpO"
   },
   "source": [
    "Here the data are displayed in logarithmic representation"
   ]
  },
  {
   "cell_type": "code",
   "execution_count": 11,
   "metadata": {
    "colab": {
     "base_uri": "https://localhost:8080/",
     "height": 279
    },
    "colab_type": "code",
    "id": "xEkDAdyTdp8v",
    "outputId": "b9ecb906-39d1-42c5-d0d8-354822c92dbc"
   },
   "outputs": [
    {
     "data": {
      "image/png": "[encoded data removed]",
      "text/plain": [
       "<Figure size 432x288 with 1 Axes>"
      ]
     },
     "metadata": {
      "needs_background": "light"
     },
     "output_type": "display_data"
    }
   ],
   "source": [
    "predicted1 = Linear_Regression.predict(x.values.reshape(-1,1))\n",
    "predicted11 = 10**Linear_Regression.predict(x.values.reshape(-1,1))\n",
    "plt.plot(x, yy, 'o-',label='data set')\n",
    "plt.plot(x, predicted1,c='#ff0000',label='linear_regression')\n",
    "plt.legend()\n",
    "plt.xlabel('Number of Day')\n",
    "plt.ylabel('Predict value in log ')\n",
    "plt.show()"
   ]
  },
  {
   "cell_type": "markdown",
   "metadata": {
    "colab_type": "text",
    "id": "M4CQfLJVQiQJ"
   },
   "source": [
    "\n",
    "\n",
    "---\n",
    "\n",
    "\n",
    "Here the data is displayed by exponential representation (linear_regression Curve Was Converted)"
   ]
  },
  {
   "cell_type": "code",
   "execution_count": 12,
   "metadata": {
    "colab": {
     "base_uri": "https://localhost:8080/",
     "height": 290
    },
    "colab_type": "code",
    "id": "av8Ve4nQQY6Z",
    "outputId": "c9530e3a-cf12-44c9-8d77-31cfb62539ed"
   },
   "outputs": [
    {
     "data": {
      "image/png": "[encoded data removed]",
      "text/plain": [
       "<Figure size 432x288 with 1 Axes>"
      ]
     },
     "metadata": {
      "needs_background": "light"
     },
     "output_type": "display_data"
    }
   ],
   "source": [
    "plt.plot(x[:79], predicted11[:79],label='linear_regression')\n",
    "plt.scatter(x_test_patient, 10**evaluation_1 ,s=60, c='#ff0000',label='Predict values')\n",
    "plt.scatter(x_test_patient, y_test_patient ,s=50, c='#003300',label='Original test values')\n",
    "plt.legend()\n",
    "plt.xlabel('Number of Day')\n",
    "plt.ylabel('Predict value ')\n",
    "plt.show()"
   ]
  },
  {
   "cell_type": "markdown",
   "metadata": {
    "colab_type": "text",
    "id": "HMqLmWxE3db3"
   },
   "source": [
    "## **SVR**"
   ]
  },
  {
   "cell_type": "markdown",
   "metadata": {
    "colab_type": "text",
    "id": "O1gNgjmDhkP5"
   },
   "source": [
    "### Code & Validation"
   ]
  },
  {
   "cell_type": "code",
   "execution_count": 13,
   "metadata": {
    "colab": {
     "base_uri": "https://localhost:8080/",
     "height": 101
    },
    "colab_type": "code",
    "id": "xvQHc9qvc9ui",
    "outputId": "489df1ea-fde5-4e9d-d323-95d5ec2dbe23"
   },
   "outputs": [
    {
     "name": "stdout",
     "output_type": "stream",
     "text": [
      "Average score for SVR_Regressor_1: -0.3947486705063331 \n",
      "Average score for SVR_Regressor_2: 0.9540088594110667 \n",
      "Average score for SVR_Regressor_3: -0.1608372934452422 \n",
      "Average score for SVR_Regressor_4: -0.387433213590172 \n",
      "Average score for SVR_Regressor_5: 0.9103206959724819\n"
     ]
    }
   ],
   "source": [
    "scores_1 = []\n",
    "scores_2 = []\n",
    "scores_3 = []\n",
    "scores_4 = []\n",
    "scores_5 = []\n",
    "######################################################################################################################\n",
    "SVR_Regressor_1 = SVR(kernel='rbf')\n",
    "SVR_Regressor_2 = SVR(kernel='poly',degree=5)\n",
    "SVR_Regressor_3 = SVR(kernel='linear')\n",
    "SVR_Regressor_4 = SVR(kernel='poly',degree=2)\n",
    "SVR_Regressor_5 = SVR(kernel='poly',degree=7)\n",
    "######################################################################################################################\n",
    "cv = KFold(n_splits=10, random_state=1, shuffle=True)\n",
    "for train_index, test_index in cv.split(x):\n",
    "    X_train, X_test, y_train, y_test ,yy_train, yy_test= x[train_index], x[test_index], y[train_index], y[test_index], yy[train_index], yy[test_index]\n",
    "    #\n",
    "    SVR_Regressor_1.fit(X_train.values.reshape(-1,1), y_train)\n",
    "    scores_1.append(SVR_Regressor_1.score(X_test.values.reshape(-1,1), y_test))\n",
    "    #\n",
    "    SVR_Regressor_2.fit(X_train.values.reshape(-1,1), y_train)\n",
    "    scores_2.append(SVR_Regressor_2.score(X_test.values.reshape(-1,1), y_test))\n",
    "    #\n",
    "    SVR_Regressor_3.fit(X_train.values.reshape(-1,1), y_train)\n",
    "    scores_3.append(SVR_Regressor_3.score(X_test.values.reshape(-1,1), y_test))\n",
    "    #\n",
    "    SVR_Regressor_4.fit(X_train.values.reshape(-1,1), y_train)\n",
    "    scores_4.append(SVR_Regressor_4.score(X_test.values.reshape(-1,1), y_test))\n",
    "    #\n",
    "    SVR_Regressor_5.fit(X_train.values.reshape(-1,1), y_train)\n",
    "    scores_5.append(SVR_Regressor_5.score(X_test.values.reshape(-1,1), y_test))\n",
    "\n",
    "print(\"Average score for SVR_Regressor_1:\",sum(scores_1)/10,\n",
    "      \"\\nAverage score for SVR_Regressor_2:\",sum(scores_2)/10,\n",
    "      \"\\nAverage score for SVR_Regressor_3:\",sum(scores_3)/10,\n",
    "      \"\\nAverage score for SVR_Regressor_4:\",sum(scores_4)/10,\n",
    "      \"\\nAverage score for SVR_Regressor_5:\",sum(scores_5)/10)   \n"
   ]
  },
  {
   "cell_type": "markdown",
   "metadata": {
    "colab_type": "text",
    "id": "TF9rMSSNmSJ-"
   },
   "source": [
    "**After the validation we chosed best parameter for SVR (SVR_Regressor_2) to evaluate:**"
   ]
  },
  {
   "cell_type": "markdown",
   "metadata": {
    "colab_type": "text",
    "id": "J_ynBqRWH9fQ"
   },
   "source": [
    "### Evaluation"
   ]
  },
  {
   "cell_type": "code",
   "execution_count": 14,
   "metadata": {
    "colab": {
     "base_uri": "https://localhost:8080/",
     "height": 34
    },
    "colab_type": "code",
    "id": "D72kK0YfmT8o",
    "outputId": "ca15e969-135b-4c0e-c867-2f3b90134fdf"
   },
   "outputs": [
    {
     "name": "stdout",
     "output_type": "stream",
     "text": [
      "Final Evaluation Score for SVR Regression : 0.9587420012661088\n"
     ]
    }
   ],
   "source": [
    "SVR_Regressor_2.fit(x.values.reshape(-1,1), y)\n",
    "y_test_patient_log=np.log10(y_test_patient)\n",
    "evaluation_2 =SVR_Regressor_2.predict(x_test_patient.values.reshape(-1,1))\n",
    "score=SVR_Regressor_2.score(x_test_patient.values.reshape(-1,1), y_test_patient)   \n",
    "print(\"Final Evaluation Score for SVR Regression :\",score)"
   ]
  },
  {
   "cell_type": "markdown",
   "metadata": {
    "colab_type": "text",
    "id": "84dnU1SRS75j"
   },
   "source": [
    "### Prediction for new days"
   ]
  },
  {
   "cell_type": "code",
   "execution_count": 15,
   "metadata": {
    "colab": {
     "base_uri": "https://localhost:8080/",
     "height": 151
    },
    "colab_type": "code",
    "id": "nLvUFTUvTFYX",
    "outputId": "05e04fac-518f-4450-a47c-8712c9ccecde"
   },
   "outputs": [
    {
     "name": "stdout",
     "output_type": "stream",
     "text": [
      "Evaluation for expecting 6 days in future in SVR_Regression:\n",
      "day [95] = 834622\n",
      "day [96] = 879540\n",
      "day [97] = 926369\n",
      "day [98] = 975169\n",
      "day [99] = 1026003\n",
      "day [100] = 1078932\n",
      "day [101] = 1134022\n"
     ]
    }
   ],
   "source": [
    "\n",
    "print('Evaluation for expecting 6 days in future in SVR_Regression:')\n",
    "for predict in x_prediction:\n",
    "  print('day',predict,'=',int(SVR_Regressor_2.predict([predict])))"
   ]
  },
  {
   "cell_type": "markdown",
   "metadata": {
    "colab_type": "text",
    "id": "eGhaFCkph2AY"
   },
   "source": [
    "### plot"
   ]
  },
  {
   "cell_type": "markdown",
   "metadata": {
    "colab_type": "text",
    "id": "JPXaC5FrR_ja"
   },
   "source": [
    "\n",
    "\n",
    "Here the data is displayed by exponential representation\n",
    "\n"
   ]
  },
  {
   "cell_type": "code",
   "execution_count": 16,
   "metadata": {
    "colab": {
     "base_uri": "https://localhost:8080/",
     "height": 279
    },
    "colab_type": "code",
    "id": "qrz6ge5reG6X",
    "outputId": "80f1cefd-02e0-4b04-ef19-42e3b1cb6abd"
   },
   "outputs": [
    {
     "data": {
      "image/png": "[encoded data removed]",
      "text/plain": [
       "<Figure size 432x288 with 1 Axes>"
      ]
     },
     "metadata": {
      "needs_background": "light"
     },
     "output_type": "display_data"
    }
   ],
   "source": [
    "predicted2 = (SVR_Regressor_2.predict(x.values.reshape(-1,1)))\n",
    "predicted22= np.log10(predicted2[23:])\n",
    "plt.plot(x,y, 'o-',label='data set')\n",
    "plt.plot(x, predicted2,c='#ff0000',label='SVR_Regressor_2')\n",
    "plt.legend()\n",
    "plt.xlabel('Number of Day')\n",
    "plt.ylabel('Predict value in log')\n",
    "plt.show()"
   ]
  },
  {
   "cell_type": "code",
   "execution_count": 17,
   "metadata": {
    "colab": {
     "base_uri": "https://localhost:8080/",
     "height": 279
    },
    "colab_type": "code",
    "id": "3gIwXk2mR8hI",
    "outputId": "15dbad53-3186-4002-952e-4e84b6bd5d29"
   },
   "outputs": [
    {
     "data": {
      "image/png": "[encoded data removed]",
      "text/plain": [
       "<Figure size 432x288 with 1 Axes>"
      ]
     },
     "metadata": {
      "needs_background": "light"
     },
     "output_type": "display_data"
    }
   ],
   "source": [
    "plt.plot(x, predicted2,label='SVR_Regressor_2')\n",
    "plt.scatter(x_test_patient, evaluation_2 ,s=60, c='#ff0000',label='Predict values')\n",
    "plt.scatter(x_test_patient, y_test_patient ,s=50, c='#003300',label='Original test values')\n",
    "plt.legend()\n",
    "plt.xlabel('Number of Day')\n",
    "plt.ylabel('Predict value in Log')\n",
    "plt.show()"
   ]
  },
  {
   "cell_type": "markdown",
   "metadata": {
    "colab_type": "text",
    "id": "oPGx5rY-fRPG"
   },
   "source": [
    "## **MLPRegressor**"
   ]
  },
  {
   "cell_type": "markdown",
   "metadata": {
    "colab_type": "text",
    "id": "aPn27AX6hPia"
   },
   "source": [
    "### Code & Validation"
   ]
  },
  {
   "cell_type": "code",
   "execution_count": 18,
   "metadata": {
    "colab": {
     "base_uri": "https://localhost:8080/",
     "height": 101
    },
    "colab_type": "code",
    "id": "ER04UD8dfVWM",
    "outputId": "886e3740-bc84-4309-c2a8-c99cdbbcd8e5"
   },
   "outputs": [
    {
     "name": "stdout",
     "output_type": "stream",
     "text": [
      "Average score for MLP_Regressor_1: 0.9973259107392481 \n",
      "Average score for MLP_Regressor_2: 0.9979228277995988 \n",
      "Average score for MLP_Regressor_3: 0.9910101918732378 \n",
      "Average score for MLP_Regressor_4: -0.22137070515497576 \n",
      "Average score for MLP_Regressor_5: -0.2732449480660675\n"
     ]
    }
   ],
   "source": [
    "\n",
    "scores_1 = []\n",
    "scores_2 = []\n",
    "scores_3 = []\n",
    "scores_4 = []\n",
    "scores_5 = []\n",
    "######################################################################################################################\n",
    "MLP_Regressor_1 = MLPRegressor(hidden_layer_sizes=(4), activation='tanh', solver='lbfgs' ,learning_rate_init=0.01, max_iter=1000,random_state=120, validation_fraction=0.1)\n",
    "MLP_Regressor_2 = MLPRegressor(hidden_layer_sizes=(5), activation='tanh', solver='lbfgs' ,learning_rate_init=0.01, max_iter=1000,random_state=120, validation_fraction=0.1)\n",
    "MLP_Regressor_3 = MLPRegressor(hidden_layer_sizes=(1), activation='tanh', solver='lbfgs' ,learning_rate_init=0.3, max_iter=1000,random_state=120, validation_fraction=0.2)\n",
    "MLP_Regressor_4 = MLPRegressor(hidden_layer_sizes=(5), activation='relu', solver='lbfgs' ,learning_rate_init=0.01, max_iter=1000,random_state=1, validation_fraction=0.1)\n",
    "MLP_Regressor_5 = MLPRegressor(hidden_layer_sizes=(5), activation='tanh', solver='sgd' ,learning_rate_init=0.01, max_iter=1000,random_state=1, validation_fraction=0.1)\n",
    "######################################################################################################################\n",
    "cv = KFold(n_splits=10, random_state=1, shuffle=True)\n",
    "for train_index, test_index in cv.split(x):\n",
    "    X_train, X_test, y_train, y_test ,yy_train, yy_test= x[train_index], x[test_index], y[train_index], y[test_index], yy[train_index], yy[test_index]\n",
    "    #\n",
    "    MLP_Regressor_1.fit(X_train.values.reshape(-1,1), yy_train)\n",
    "    scores_1.append(MLP_Regressor_1.score(X_test.values.reshape(-1,1), yy_test))\n",
    "    #\n",
    "    MLP_Regressor_2.fit(X_train.values.reshape(-1,1), yy_train)\n",
    "    scores_2.append(MLP_Regressor_2.score(X_test.values.reshape(-1,1), yy_test))\n",
    "    #\n",
    "    MLP_Regressor_3.fit(X_train.values.reshape(-1,1), yy_train)\n",
    "    scores_3.append(MLP_Regressor_3.score(X_test.values.reshape(-1,1), yy_test))\n",
    "     #\n",
    "    MLP_Regressor_4.fit(X_train.values.reshape(-1,1), yy_train)\n",
    "    scores_4.append(MLP_Regressor_4.score(X_test.values.reshape(-1,1), yy_test))\n",
    "    #\n",
    "    MLP_Regressor_5.fit(X_train.values.reshape(-1,1), yy_train)\n",
    "    scores_5.append(MLP_Regressor_5.score(X_test.values.reshape(-1,1), yy_test))\n",
    "\n",
    "print(\"Average score for MLP_Regressor_1:\",sum(scores_1)/10,\"\\nAverage score for MLP_Regressor_2:\",sum(scores_2)/10,\"\\nAverage score for MLP_Regressor_3:\",sum(scores_3)/10\n",
    "      ,\"\\nAverage score for MLP_Regressor_4:\",sum(scores_4)/10,\"\\nAverage score for MLP_Regressor_5:\",sum(scores_5)/10)    \n"
   ]
  },
  {
   "cell_type": "markdown",
   "metadata": {
    "colab_type": "text",
    "id": "3rO754e_OUb2"
   },
   "source": [
    "**After the validation we chosed best parameter for MLP (MLP_Regressor_2) to evaluate:**"
   ]
  },
  {
   "cell_type": "markdown",
   "metadata": {
    "colab_type": "text",
    "id": "jZeuLeooIGCA"
   },
   "source": [
    "### Evaluation"
   ]
  },
  {
   "cell_type": "code",
   "execution_count": 19,
   "metadata": {
    "colab": {
     "base_uri": "https://localhost:8080/",
     "height": 34
    },
    "colab_type": "code",
    "id": "bTsH5GY8-mnV",
    "outputId": "0cb52b1f-5e4d-4bc4-b6fb-d0139a0face9"
   },
   "outputs": [
    {
     "name": "stdout",
     "output_type": "stream",
     "text": [
      "Final Evaluation Score for MLP_Regressor : 0.9984346234582061\n"
     ]
    }
   ],
   "source": [
    "MLP_Regressor = MLPRegressor(hidden_layer_sizes=(5), activation='tanh', solver='lbfgs' ,learning_rate_init=0.01, max_iter=1000,random_state=120, validation_fraction=0.1)\n",
    "MLP_Regressor.fit(x.values.reshape(-1,1), yy)\n",
    "y_test_patient_log=np.log10(y_test_patient)\n",
    "evaluation_3 =MLP_Regressor.predict(x_test_patient.values.reshape(-1,1))\n",
    "score=MLP_Regressor.score(x_test_patient.values.reshape(-1,1), y_test_patient_log)   \n",
    "print(\"Final Evaluation Score for MLP_Regressor :\",score)"
   ]
  },
  {
   "cell_type": "markdown",
   "metadata": {
    "colab_type": "text",
    "id": "JJ2leCIVAFvX"
   },
   "source": [
    "### Prediction for new days"
   ]
  },
  {
   "cell_type": "code",
   "execution_count": 20,
   "metadata": {
    "colab": {
     "base_uri": "https://localhost:8080/",
     "height": 151
    },
    "colab_type": "code",
    "id": "oqNSoUbuAHYT",
    "outputId": "46f048bb-1bea-412c-9b0b-12d214f167d3"
   },
   "outputs": [
    {
     "name": "stdout",
     "output_type": "stream",
     "text": [
      "Evaluation for expecting 6 days in future in MLP_Regressor:\n",
      "day [95] = 781790\n",
      "day [96] = 801797\n",
      "day [97] = 822086\n",
      "day [98] = 842747\n",
      "day [99] = 863865\n",
      "day [100] = 885524\n",
      "day [101] = 907799\n"
     ]
    }
   ],
   "source": [
    "print('Evaluation for expecting 6 days in future in MLP_Regressor:')\n",
    "for predict in x_prediction:\n",
    "  print('day',predict,'=',int(10**MLP_Regressor.predict([predict])))"
   ]
  },
  {
   "cell_type": "markdown",
   "metadata": {
    "colab_type": "text",
    "id": "iiEiqrNlhVeI"
   },
   "source": [
    "### plot"
   ]
  },
  {
   "cell_type": "markdown",
   "metadata": {
    "colab_type": "text",
    "id": "isrfGkFJS3K7"
   },
   "source": [
    "Here the data is displayed by exponential"
   ]
  },
  {
   "cell_type": "code",
   "execution_count": 21,
   "metadata": {
    "colab": {
     "base_uri": "https://localhost:8080/",
     "height": 279
    },
    "colab_type": "code",
    "id": "bfbFJCNKfZ1I",
    "outputId": "032c0611-c2b7-4374-8dfd-2cc7edc073dc"
   },
   "outputs": [
    {
     "data": {
      "image/png": "[encoded data removed]",
      "text/plain": [
       "<Figure size 432x288 with 1 Axes>"
      ]
     },
     "metadata": {
      "needs_background": "light"
     },
     "output_type": "display_data"
    }
   ],
   "source": [
    "predicted3 =10**MLP_Regressor.predict(x.values.reshape(-1,1))\n",
    "predicted33=MLP_Regressor.predict(x.values.reshape(-1,1))\n",
    "plt.plot(x, y, 'o-',label='data set')\n",
    "plt.plot(x, predicted3,c='#ff0000',label='MLP_regression')\n",
    "plt.legend()\n",
    "plt.xlabel('Number of Day')\n",
    "plt.ylabel('Predict value ')\n",
    "plt.show()"
   ]
  },
  {
   "cell_type": "code",
   "execution_count": 22,
   "metadata": {
    "colab": {
     "base_uri": "https://localhost:8080/",
     "height": 279
    },
    "colab_type": "code",
    "id": "sZlVpy5rSoXd",
    "outputId": "680fd202-1933-4981-df09-c8ab6b061783"
   },
   "outputs": [
    {
     "data": {
      "image/png": "[encoded data removed]",
      "text/plain": [
       "<Figure size 432x288 with 1 Axes>"
      ]
     },
     "metadata": {
      "needs_background": "light"
     },
     "output_type": "display_data"
    }
   ],
   "source": [
    "plt.plot(x, predicted3,label='MLP_regression')\n",
    "plt.scatter(x_test_patient, 10**evaluation_3 ,s=50, c='#ff0000',label='Predict values')\n",
    "plt.scatter(x_test_patient, y_test_patient,s=40, c='#003300',label='Original test values')\n",
    "plt.legend()\n",
    "plt.xlabel('Number of Day')\n",
    "plt.ylabel('Predict value in Log')\n",
    "plt.show()"
   ]
  },
  {
   "cell_type": "markdown",
   "metadata": {
    "colab_type": "text",
    "id": "wnT3iNvbrKjv"
   },
   "source": [
    "## **Conclusion**"
   ]
  },
  {
   "cell_type": "code",
   "execution_count": 23,
   "metadata": {
    "colab": {
     "base_uri": "https://localhost:8080/",
     "height": 313
    },
    "colab_type": "code",
    "id": "6UWQvtNs8EHy",
    "outputId": "5b5ee880-9c23-44f0-a201-23f686b7df8b"
   },
   "outputs": [
    {
     "name": "stdout",
     "output_type": "stream",
     "text": [
      "\n",
      "\t   The Three models in exponantial case \n"
     ]
    },
    {
     "data": {
      "image/png": "[encoded data removed]",
      "text/plain": [
       "<Figure size 432x288 with 1 Axes>"
      ]
     },
     "metadata": {
      "needs_background": "light"
     },
     "output_type": "display_data"
    }
   ],
   "source": [
    "print(\"\\n\\t   The Three models in exponantial case \")\n",
    "plt.plot(x[:76], 10**predicted1[:76],label='linear_regression')\n",
    "plt.plot(x, predicted2,label='SVR')\n",
    "plt.plot(x, predicted3,label='MLPRegressor (THE BEST)')\n",
    "plt.legend()\n",
    "plt.xlabel('Number of Day')\n",
    "plt.ylabel('Predict value')\n",
    "plt.show()"
   ]
  },
  {
   "cell_type": "code",
   "execution_count": 24,
   "metadata": {
    "colab": {
     "base_uri": "https://localhost:8080/",
     "height": 313
    },
    "colab_type": "code",
    "id": "NnlszY9VTk0F",
    "outputId": "de29f0eb-62fe-48be-cc93-6f30efcdf6d4"
   },
   "outputs": [
    {
     "name": "stdout",
     "output_type": "stream",
     "text": [
      "\n",
      "\t   The Three models in Log case \n"
     ]
    },
    {
     "data": {
      "image/png": "[encoded data removed]",
      "text/plain": [
       "<Figure size 432x288 with 1 Axes>"
      ]
     },
     "metadata": {
      "needs_background": "light"
     },
     "output_type": "display_data"
    }
   ],
   "source": [
    "print(\"\\n\\t   The Three models in Log case \")\n",
    "plt.plot(x, predicted1,label='linear_regression')\n",
    "plt.plot(x[23:], predicted22,label='SVR')\n",
    "plt.plot(x, predicted33,label='MLPRegressor (THE BEST)')\n",
    "plt.legend()\n",
    "plt.xlabel('Number of Day')\n",
    "plt.ylabel('Predict value')\n",
    "plt.show()\n"
   ]
  },
  {
   "cell_type": "code",
   "execution_count": 25,
   "metadata": {
    "colab": {
     "base_uri": "https://localhost:8080/",
     "height": 313
    },
    "colab_type": "code",
    "id": "8CU-HXDGU8Xb",
    "outputId": "80dbd335-9eaa-4a40-9972-ca79e58826bb"
   },
   "outputs": [
    {
     "name": "stdout",
     "output_type": "stream",
     "text": [
      "\n",
      "\t   The Best model (MLP Model) \n"
     ]
    },
    {
     "data": {
      "image/png": "[encoded data removed]",
      "text/plain": [
       "<Figure size 432x288 with 1 Axes>"
      ]
     },
     "metadata": {
      "needs_background": "light"
     },
     "output_type": "display_data"
    }
   ],
   "source": [
    "print(\"\\n\\t   The Best model (MLP Model) \")\n",
    "plt.plot(x, predicted3,label='MLPRegressor (THE BEST)')\n",
    "plt.plot(x_prediction, 10**MLP_Regressor.predict(x_prediction),label='new day prediction')\n",
    "plt.legend()\n",
    "plt.xlabel('Number of Day')\n",
    "plt.ylabel('Predict value')\n",
    "plt.show()"
   ]
  },
  {
   "cell_type": "code",
   "execution_count": 26,
   "metadata": {
    "colab": {
     "base_uri": "https://localhost:8080/",
     "height": 313
    },
    "colab_type": "code",
    "id": "_thfnlLkU82p",
    "outputId": "ebba9423-8acd-4f33-8f19-dfc73a00ac67"
   },
   "outputs": [
    {
     "name": "stdout",
     "output_type": "stream",
     "text": [
      "\n",
      "\t The Best model (MLP Model) in Log\n"
     ]
    },
    {
     "data": {
      "image/png": "[encoded data removed]",
      "text/plain": [
       "<Figure size 432x288 with 1 Axes>"
      ]
     },
     "metadata": {
      "needs_background": "light"
     },
     "output_type": "display_data"
    }
   ],
   "source": [
    "print(\"\\n\\t The Best model (MLP Model) in Log\")\n",
    "plt.plot(x, np.log10(predicted3),label='MLPRegressor (THE BEST)')\n",
    "plt.plot(x_prediction, MLP_Regressor.predict(x_prediction), label='new day prediction')\n",
    "plt.legend()\n",
    "plt.xlabel('Number of Day')\n",
    "plt.ylabel('Predict value in log')\n",
    "plt.show()"
   ]
  },
  {
   "cell_type": "markdown",
   "metadata": {
    "colab_type": "text",
    "id": "RSV942JgmtAu"
   },
   "source": [
    "# **Deaths**"
   ]
  },
  {
   "cell_type": "markdown",
   "metadata": {
    "colab_type": "text",
    "id": "ZrhRwWKHLdsJ"
   },
   "source": [
    "## **Preparing deaths data**"
   ]
  },
  {
   "cell_type": "code",
   "execution_count": 27,
   "metadata": {
    "colab": {
     "base_uri": "https://localhost:8080/",
     "height": 373
    },
    "colab_type": "code",
    "id": "bbRCqEUQdoDi",
    "outputId": "e5718afa-4fc3-43f4-f8ba-9b079435b832"
   },
   "outputs": [
    {
     "data": {
      "text/html": [
       "<div>\n",
       "<style scoped>\n",
       "    .dataframe tbody tr th:only-of-type {\n",
       "        vertical-align: middle;\n",
       "    }\n",
       "\n",
       "    .dataframe tbody tr th {\n",
       "        vertical-align: top;\n",
       "    }\n",
       "\n",
       "    .dataframe thead th {\n",
       "        text-align: right;\n",
       "    }\n",
       "</style>\n",
       "<table border=\"1\" class=\"dataframe\">\n",
       "  <thead>\n",
       "    <tr style=\"text-align: right;\">\n",
       "      <th></th>\n",
       "      <th>num_of_date</th>\n",
       "      <th>Deaths</th>\n",
       "      <th>Date_test</th>\n",
       "      <th>num_of_date_test</th>\n",
       "      <th>Deaths_test</th>\n",
       "    </tr>\n",
       "    <tr>\n",
       "      <th>Date</th>\n",
       "      <th></th>\n",
       "      <th></th>\n",
       "      <th></th>\n",
       "      <th></th>\n",
       "      <th></th>\n",
       "    </tr>\n",
       "  </thead>\n",
       "  <tbody>\n",
       "    <tr>\n",
       "      <th>2020-03-02</th>\n",
       "      <td>1</td>\n",
       "      <td>6</td>\n",
       "      <td>2020-03-18</td>\n",
       "      <td>17.0</td>\n",
       "      <td>171.0</td>\n",
       "    </tr>\n",
       "    <tr>\n",
       "      <th>2020-03-03</th>\n",
       "      <td>2</td>\n",
       "      <td>9</td>\n",
       "      <td>2020-03-24</td>\n",
       "      <td>23.0</td>\n",
       "      <td>957.0</td>\n",
       "    </tr>\n",
       "    <tr>\n",
       "      <th>2020-03-04</th>\n",
       "      <td>3</td>\n",
       "      <td>11</td>\n",
       "      <td>2020-04-01</td>\n",
       "      <td>31.0</td>\n",
       "      <td>6394.0</td>\n",
       "    </tr>\n",
       "    <tr>\n",
       "      <th>2020-03-05</th>\n",
       "      <td>4</td>\n",
       "      <td>12</td>\n",
       "      <td>2020-04-11</td>\n",
       "      <td>41.0</td>\n",
       "      <td>23843.0</td>\n",
       "    </tr>\n",
       "    <tr>\n",
       "      <th>2020-03-06</th>\n",
       "      <td>5</td>\n",
       "      <td>14</td>\n",
       "      <td>2020-04-22</td>\n",
       "      <td>52.0</td>\n",
       "      <td>47894.0</td>\n",
       "    </tr>\n",
       "    <tr>\n",
       "      <th>2020-03-07</th>\n",
       "      <td>6</td>\n",
       "      <td>17</td>\n",
       "      <td>2020-04-28</td>\n",
       "      <td>58.0</td>\n",
       "      <td>59266.0</td>\n",
       "    </tr>\n",
       "    <tr>\n",
       "      <th>2020-03-08</th>\n",
       "      <td>7</td>\n",
       "      <td>21</td>\n",
       "      <td>2020-04-05</td>\n",
       "      <td>35.0</td>\n",
       "      <td>11793.0</td>\n",
       "    </tr>\n",
       "    <tr>\n",
       "      <th>2020-03-09</th>\n",
       "      <td>8</td>\n",
       "      <td>22</td>\n",
       "      <td>2020-04-16</td>\n",
       "      <td>46.0</td>\n",
       "      <td>34619.0</td>\n",
       "    </tr>\n",
       "    <tr>\n",
       "      <th>2020-03-10</th>\n",
       "      <td>9</td>\n",
       "      <td>30</td>\n",
       "      <td>NaN</td>\n",
       "      <td>NaN</td>\n",
       "      <td>NaN</td>\n",
       "    </tr>\n",
       "    <tr>\n",
       "      <th>2020-03-11</th>\n",
       "      <td>10</td>\n",
       "      <td>36</td>\n",
       "      <td>NaN</td>\n",
       "      <td>NaN</td>\n",
       "      <td>NaN</td>\n",
       "    </tr>\n",
       "  </tbody>\n",
       "</table>\n",
       "</div>"
      ],
      "text/plain": [
       "            num_of_date  Deaths   Date_test  num_of_date_test  Deaths_test\n",
       "Date                                                                      \n",
       "2020-03-02            1       6  2020-03-18              17.0        171.0\n",
       "2020-03-03            2       9  2020-03-24              23.0        957.0\n",
       "2020-03-04            3      11  2020-04-01              31.0       6394.0\n",
       "2020-03-05            4      12  2020-04-11              41.0      23843.0\n",
       "2020-03-06            5      14  2020-04-22              52.0      47894.0\n",
       "2020-03-07            6      17  2020-04-28              58.0      59266.0\n",
       "2020-03-08            7      21  2020-04-05              35.0      11793.0\n",
       "2020-03-09            8      22  2020-04-16              46.0      34619.0\n",
       "2020-03-10            9      30         NaN               NaN          NaN\n",
       "2020-03-11           10      36         NaN               NaN          NaN"
      ]
     },
     "execution_count": 27,
     "metadata": {},
     "output_type": "execute_result"
    }
   ],
   "source": [
    "path2='https://raw.githubusercontent.com/shrutijain20/Covid19_Analysis/main/Deaths_us.csv'\n",
    "ds_death = pd.read_csv(path2, index_col=0)\n",
    "ds_death.head(10)"
   ]
  },
  {
   "cell_type": "code",
   "execution_count": 28,
   "metadata": {
    "colab": {},
    "colab_type": "code",
    "id": "gQQ-8gU3mzHy"
   },
   "outputs": [],
   "source": [
    "x_death = ds_death['num_of_date']\n",
    "y_death = ds_death['Deaths']\n",
    "x_test_deaths = ds_death['num_of_date_test'][:8]\n",
    "y_test_deaths = ds_death['Deaths_test'][:8]\n",
    "x_prediction2 =[[60],[61],[62],[63],[64],[65],[67]]\n"
   ]
  },
  {
   "cell_type": "markdown",
   "metadata": {
    "colab_type": "text",
    "id": "jQ2R_NaYmz-y"
   },
   "source": [
    "## **linear_regression**\n"
   ]
  },
  {
   "cell_type": "markdown",
   "metadata": {
    "colab_type": "text",
    "id": "pOsd1xkUnoQg"
   },
   "source": [
    "### Code & Validation"
   ]
  },
  {
   "cell_type": "code",
   "execution_count": 29,
   "metadata": {
    "colab": {
     "base_uri": "https://localhost:8080/",
     "height": 34
    },
    "colab_type": "code",
    "id": "-X5VAyZ8nmjl",
    "outputId": "d0943b30-a88e-4873-bf6e-d8bf8be1c66a"
   },
   "outputs": [
    {
     "name": "stdout",
     "output_type": "stream",
     "text": [
      "Average score for Linear Regression: 0.8742874590701346\n"
     ]
    }
   ],
   "source": [
    "from sklearn.linear_model import LinearRegression\n",
    "linear_regression=LinearRegression()\n",
    "\n",
    "y_log_D = np.log10(y_death)\n",
    "\n",
    "scores = []\n",
    "######################################################################################################################\n",
    "Linear_Regression = LinearRegression()\n",
    "######################################################################################################################\n",
    "cv = KFold(n_splits=10, random_state=1, shuffle=True)\n",
    "for train_index, test_index in cv.split(x_death):\n",
    "    X_train_D, X_test_D, y_log_train_D, y_log_test_D= x_death[train_index], x_death[test_index], y_log_D[train_index], y_log_D[test_index]\n",
    "    \n",
    "    Linear_Regression.fit(X_train_D.values.reshape(-1,1), y_log_train_D)\n",
    "    scores.append(Linear_Regression.score(X_test_D.values.reshape(-1,1), y_log_test_D))\n",
    "    \n",
    "print(\"Average score for Linear Regression:\",sum(scores)/10)    \n"
   ]
  },
  {
   "cell_type": "markdown",
   "metadata": {
    "colab_type": "text",
    "id": "Ie2HmoSnhztq"
   },
   "source": [
    "**After the validation we evaluate the Linear Model:**"
   ]
  },
  {
   "cell_type": "markdown",
   "metadata": {
    "colab_type": "text",
    "id": "NECy8G3hIJ2r"
   },
   "source": [
    "### Evaluation"
   ]
  },
  {
   "cell_type": "code",
   "execution_count": 30,
   "metadata": {
    "colab": {
     "base_uri": "https://localhost:8080/",
     "height": 34
    },
    "colab_type": "code",
    "id": "KMjYHnoph3A1",
    "outputId": "6c802dbb-1e74-4ef8-d3df-ee428dbb0172"
   },
   "outputs": [
    {
     "name": "stdout",
     "output_type": "stream",
     "text": [
      "Final Evaluation Score for Linear Regression : 0.830093599032727\n"
     ]
    }
   ],
   "source": [
    "Linear_Regression.fit(x_death.values.reshape(-1,1), y_log_D)\n",
    "y_test_deaths_log=np.log10(y_test_deaths)\n",
    "evaluation_4 =Linear_Regression.predict(x_test_deaths.values.reshape(-1,1))\n",
    "score=Linear_Regression.score(x_test_deaths.values.reshape(-1,1), y_test_deaths_log)   \n",
    "print(\"Final Evaluation Score for Linear Regression :\",score)"
   ]
  },
  {
   "cell_type": "markdown",
   "metadata": {
    "colab_type": "text",
    "id": "z5ywtEvrrhlk"
   },
   "source": [
    "### Prediction for new days"
   ]
  },
  {
   "cell_type": "code",
   "execution_count": 31,
   "metadata": {
    "colab": {
     "base_uri": "https://localhost:8080/",
     "height": 151
    },
    "colab_type": "code",
    "id": "aMvndMKDrgVz",
    "outputId": "e0646da7-e297-421f-bef2-06fce110aae7"
   },
   "outputs": [
    {
     "name": "stdout",
     "output_type": "stream",
     "text": [
      "Evaluation for expecting 6 days in future in Linear_Regression:\n",
      "day [60] = 314958\n",
      "day [61] = 374098\n",
      "day [62] = 444343\n",
      "day [63] = 527777\n",
      "day [64] = 626878\n",
      "day [65] = 744587\n",
      "day [67] = 1050462\n"
     ]
    }
   ],
   "source": [
    "print('Evaluation for expecting 6 days in future in Linear_Regression:')\n",
    "for predict in x_prediction2:\n",
    "  print('day',predict,'=',int(10**Linear_Regression.predict([predict])))"
   ]
  },
  {
   "cell_type": "markdown",
   "metadata": {
    "colab_type": "text",
    "id": "9Nm5HYLlofyr"
   },
   "source": [
    "### plot"
   ]
  },
  {
   "cell_type": "markdown",
   "metadata": {
    "colab_type": "text",
    "id": "w0XyrG22bUEu"
   },
   "source": [
    "Here the data are displayed in logarithmic representation\n",
    "\n"
   ]
  },
  {
   "cell_type": "code",
   "execution_count": 32,
   "metadata": {
    "colab": {
     "base_uri": "https://localhost:8080/",
     "height": 279
    },
    "colab_type": "code",
    "id": "Tkgs4rvfolag",
    "outputId": "c568035d-4a73-42ef-da53-7a0f08ce225e"
   },
   "outputs": [
    {
     "data": {
      "image/png": "[encoded data removed]",
      "text/plain": [
       "<Figure size 432x288 with 1 Axes>"
      ]
     },
     "metadata": {
      "needs_background": "light"
     },
     "output_type": "display_data"
    }
   ],
   "source": [
    "predicted4 =(Linear_Regression.predict(x_death.values.reshape(-1,1)))\n",
    "plt.plot(x_death, y_log_D, 'o-',label='data set')\n",
    "plt.plot(x_death, predicted4,c='#ff0000',label='linear_regression')\n",
    "plt.legend()\n",
    "plt.xlabel('Number of Day')\n",
    "plt.ylabel('Predict value in Log')\n",
    "plt.show()"
   ]
  },
  {
   "cell_type": "markdown",
   "metadata": {
    "colab_type": "text",
    "id": "flzt0SGGbV6V"
   },
   "source": [
    "\n",
    "\n",
    "---\n",
    "\n",
    "\n",
    "Here the data are displayed in logarithmic representation"
   ]
  },
  {
   "cell_type": "code",
   "execution_count": 33,
   "metadata": {
    "colab": {
     "base_uri": "https://localhost:8080/",
     "height": 279
    },
    "colab_type": "code",
    "id": "DtiEhKm0XCUp",
    "outputId": "9a8888ee-1fa9-4c5f-9169-88dbf3306b42"
   },
   "outputs": [
    {
     "data": {
      "image/png": "[encoded data removed]",
      "text/plain": [
       "<Figure size 432x288 with 1 Axes>"
      ]
     },
     "metadata": {
      "needs_background": "light"
     },
     "output_type": "display_data"
    }
   ],
   "source": [
    "plt.plot(x_death[:58], 10**(predicted4[:58]),label='linear_regression')\n",
    "plt.scatter(x_test_deaths, 10**evaluation_4 ,s=60, c='#ff0000',label='Predict values')\n",
    "plt.scatter(x_test_deaths, y_test_deaths ,s=50, c='#003300',label='Original values')\n",
    "plt.legend()\n",
    "plt.xlabel('Number of Day')\n",
    "plt.ylabel('Predict value in Log')\n",
    "plt.show()"
   ]
  },
  {
   "cell_type": "markdown",
   "metadata": {
    "colab_type": "text",
    "id": "vUxUr9ugo1je"
   },
   "source": [
    "## **SVR**\n"
   ]
  },
  {
   "cell_type": "markdown",
   "metadata": {
    "colab_type": "text",
    "id": "7T8DNnTvo4WL"
   },
   "source": [
    "### Code & Validation"
   ]
  },
  {
   "cell_type": "code",
   "execution_count": 34,
   "metadata": {
    "colab": {
     "base_uri": "https://localhost:8080/",
     "height": 67
    },
    "colab_type": "code",
    "id": "tp7hMdGOomNO",
    "outputId": "e237045e-a410-4894-a846-11b913215dcd",
    "scrolled": true
   },
   "outputs": [
    {
     "name": "stdout",
     "output_type": "stream",
     "text": [
      "Average score for SVR_Regressor_1: -0.5473117937312793 \n",
      "Average score for SVR_Regressor_2: 0.919539558478903 \n",
      "Average score for SVR_Regressor_3: 0.3446979640411154\n"
     ]
    }
   ],
   "source": [
    "from sklearn.svm import SVR\n",
    "\n",
    "\n",
    "scores_1 = []\n",
    "scores_2 = []\n",
    "scores_3 = []\n",
    "######################################################################################################################\n",
    "SVR_Regressor_1 = SVR(kernel='rbf')\n",
    "SVR_Regressor_2 = SVR(kernel='poly',degree=4)\n",
    "SVR_Regressor_3 = SVR(kernel='linear')\n",
    "######################################################################################################################\n",
    "cv = KFold(n_splits=8, random_state=1, shuffle=True)\n",
    "for train_index, test_index in cv.split(x_death):\n",
    "    X_train_D, X_test_D, y_train_D, y_test_D = x_death[train_index], x_death[test_index], y_death[train_index], y_death[test_index]\n",
    "    #\n",
    "    SVR_Regressor_1.fit(X_train_D.values.reshape(-1,1), y_train_D)\n",
    "    scores_1.append(SVR_Regressor_1.score(X_test_D.values.reshape(-1,1), y_test_D))\n",
    "    #\n",
    "    SVR_Regressor_2.fit(X_train_D.values.reshape(-1,1), y_train_D)\n",
    "    scores_2.append(SVR_Regressor_2.score(X_test_D.values.reshape(-1,1), y_test_D))\n",
    "    #\n",
    "    SVR_Regressor_3.fit(X_train_D.values.reshape(-1,1), y_train_D)\n",
    "    scores_3.append(SVR_Regressor_3.score(X_test_D.values.reshape(-1,1), y_test_D))\n",
    "\n",
    "print(\"Average score for SVR_Regressor_1:\",sum(scores_1)/8,\"\\nAverage score for SVR_Regressor_2:\",sum(scores_2)/8,\"\\nAverage score for SVR_Regressor_3:\",sum(scores_3)/8)    \n"
   ]
  },
  {
   "cell_type": "markdown",
   "metadata": {
    "colab_type": "text",
    "id": "8veNi-ZehRbG"
   },
   "source": [
    "**After the validation we chosed best parameter for SVR (SVR_Regressor_2) to evaluate:**"
   ]
  },
  {
   "cell_type": "markdown",
   "metadata": {
    "colab_type": "text",
    "id": "usgo14_hIOKx"
   },
   "source": [
    "### Evaluation"
   ]
  },
  {
   "cell_type": "code",
   "execution_count": 35,
   "metadata": {
    "colab": {
     "base_uri": "https://localhost:8080/",
     "height": 34
    },
    "colab_type": "code",
    "id": "14vJQnrvguQH",
    "outputId": "7bc57f92-ed4a-43a6-db0b-7495f6e5d09f"
   },
   "outputs": [
    {
     "name": "stdout",
     "output_type": "stream",
     "text": [
      "Final Evaluation Score for SVR Regression : 0.9342479063269596\n"
     ]
    }
   ],
   "source": [
    "SVR_Regressor_2.fit(x_death.values.reshape(-1,1), y_death)\n",
    "y_test_deaths_log=np.log10(y_test_deaths)\n",
    "evaluation_5 =SVR_Regressor_2.predict(x_test_deaths.values.reshape(-1,1))\n",
    "score=SVR_Regressor_2.score(x_test_deaths.values.reshape(-1,1), y_test_deaths)   \n",
    "print(\"Final Evaluation Score for SVR Regression :\",score)"
   ]
  },
  {
   "cell_type": "markdown",
   "metadata": {
    "colab_type": "text",
    "id": "s1rXWf62QRvx"
   },
   "source": [
    "### Prediction for new days"
   ]
  },
  {
   "cell_type": "code",
   "execution_count": 36,
   "metadata": {
    "colab": {
     "base_uri": "https://localhost:8080/",
     "height": 151
    },
    "colab_type": "code",
    "id": "eWZo98BYxjVR",
    "outputId": "e8a80c9e-3d5d-43ca-ef4e-c1f4e12d5822"
   },
   "outputs": [
    {
     "name": "stdout",
     "output_type": "stream",
     "text": [
      "Evaluation for expecting 6 days in future in SVR_Regression:\n",
      "day [60] = 73019\n",
      "day [61] = 78009\n",
      "day [62] = 83251\n",
      "day [63] = 88753\n",
      "day [64] = 94523\n",
      "day [65] = 100570\n",
      "day [67] = 113530\n"
     ]
    }
   ],
   "source": [
    "print('Evaluation for expecting 6 days in future in SVR_Regression:')\n",
    "for predict in x_prediction2:\n",
    "  print('day',predict,'=',int(SVR_Regressor_2.predict([predict])))"
   ]
  },
  {
   "cell_type": "markdown",
   "metadata": {
    "colab_type": "text",
    "id": "2BpuTh5apL5z"
   },
   "source": [
    "### plot"
   ]
  },
  {
   "cell_type": "markdown",
   "metadata": {
    "colab_type": "text",
    "id": "pSaZKu5Qbfxr"
   },
   "source": [
    "Here the data are displayed in logarithmic representation"
   ]
  },
  {
   "cell_type": "code",
   "execution_count": 37,
   "metadata": {
    "colab": {
     "base_uri": "https://localhost:8080/",
     "height": 279
    },
    "colab_type": "code",
    "id": "AoVOLf73pOHP",
    "outputId": "269ceee0-548e-4570-9512-1a64b63f8631"
   },
   "outputs": [
    {
     "data": {
      "image/png": "[encoded data removed]",
      "text/plain": [
       "<Figure size 432x288 with 1 Axes>"
      ]
     },
     "metadata": {
      "needs_background": "light"
     },
     "output_type": "display_data"
    }
   ],
   "source": [
    "predicted5 = (SVR_Regressor_2.predict(x_death.values.reshape(-1,1)))\n",
    "plt.plot(x_death, y_death, 'o-',label='data set')\n",
    "plt.plot(x_death, predicted5,c='#ff0000',label='SVR_Regressor_2')\n",
    "plt.legend()\n",
    "plt.xlabel('Number of Day')\n",
    "plt.ylabel('Predict value in Log')\n",
    "plt.show()"
   ]
  },
  {
   "cell_type": "code",
   "execution_count": 38,
   "metadata": {
    "colab": {
     "base_uri": "https://localhost:8080/",
     "height": 279
    },
    "colab_type": "code",
    "id": "fAfj4JCvYzq3",
    "outputId": "34faa1bd-8a2a-4b5b-aa91-0b75e3372b0e"
   },
   "outputs": [
    {
     "data": {
      "image/png": "[encoded data removed]",
      "text/plain": [
       "<Figure size 432x288 with 1 Axes>"
      ]
     },
     "metadata": {
      "needs_background": "light"
     },
     "output_type": "display_data"
    }
   ],
   "source": [
    "plt.plot(x_death, predicted5,label='SVR_Regressor_2')\n",
    "plt.scatter(x_test_deaths, evaluation_5 ,s=60, c='#ff0000',label='Predict values')\n",
    "plt.scatter(x_test_deaths, y_test_deaths ,s=50, c='#003300',label='Original test values')\n",
    "plt.legend()\n",
    "plt.xlabel('Number of Day')\n",
    "plt.ylabel('Predict value in Log')\n",
    "plt.show()"
   ]
  },
  {
   "cell_type": "markdown",
   "metadata": {
    "colab_type": "text",
    "id": "MEi_ZrqCpYpk"
   },
   "source": [
    "## **MLPRegressor**"
   ]
  },
  {
   "cell_type": "markdown",
   "metadata": {
    "colab_type": "text",
    "id": "7ULWy7g1pe_p"
   },
   "source": [
    "### Code & Validation"
   ]
  },
  {
   "cell_type": "code",
   "execution_count": 39,
   "metadata": {
    "colab": {
     "base_uri": "https://localhost:8080/",
     "height": 101
    },
    "colab_type": "code",
    "id": "mgkIzE5YpoHU",
    "outputId": "26352998-9d01-42da-c74b-74aed0d6ed95"
   },
   "outputs": [
    {
     "name": "stdout",
     "output_type": "stream",
     "text": [
      "Average score for MLP_Regressor_1: 0.9993729870547378 \n",
      "Average score for MLP_Regressor_2: 0.9996863587179058 \n",
      "Average score for MLP_Regressor_3: 0.9995091187119903 \n",
      "Average score for MLP_Regressor_4: 0.9687048772810132 \n",
      "Average score for MLP_Regressor_5: -0.41477176691560547\n"
     ]
    }
   ],
   "source": [
    "from sklearn import preprocessing\n",
    "from sklearn.model_selection import KFold\n",
    "from sklearn.neural_network import MLPRegressor\n",
    "\n",
    "scores_1 = []\n",
    "scores_2 = []\n",
    "scores_3 = []\n",
    "scores_4 = []\n",
    "scores_5 = []\n",
    "\n",
    "######################################################################################################################\n",
    "MLP_Regressor_1 = MLPRegressor(hidden_layer_sizes=(4), activation='tanh', solver='lbfgs' ,learning_rate_init=0.01, max_iter=1000,random_state=93, validation_fraction=0.1)\n",
    "MLP_Regressor_2 = MLPRegressor(hidden_layer_sizes=(5), activation='tanh', solver='lbfgs' ,learning_rate_init=0.01, max_iter=1000,random_state=93, validation_fraction=0.1)\n",
    "MLP_Regressor_3 = MLPRegressor(hidden_layer_sizes=(6), activation='tanh', solver='lbfgs' ,learning_rate_init=0.01, max_iter=1000,random_state=93, validation_fraction=0.1)\n",
    "MLP_Regressor_4 = MLPRegressor(hidden_layer_sizes=(4), activation='relu', solver='lbfgs' ,learning_rate_init=0.01, max_iter=1000,random_state=93, validation_fraction=0.1)\n",
    "MLP_Regressor_5 = MLPRegressor(hidden_layer_sizes=(4), activation='tanh', solver='sgd' ,learning_rate_init=0.01, max_iter=1000,random_state=93, validation_fraction=0.1)\n",
    "######################################################################################################################\n",
    "cv = KFold(n_splits=8, random_state=1, shuffle=True)\n",
    "for train_index, test_index in cv.split(x_death):\n",
    "    X_train_D, X_test_D, y_log_train_D, y_log_test_D = x_death[train_index], x_death[test_index], y_log_D[train_index], y_log_D[test_index]\n",
    "    #\n",
    "    MLP_Regressor_1.fit(X_train_D.values.reshape(-1,1), y_log_train_D)\n",
    "    scores_1.append(MLP_Regressor_1.score(X_test_D.values.reshape(-1,1), y_log_test_D))\n",
    "    #\n",
    "    MLP_Regressor_2.fit(X_train_D.values.reshape(-1,1), y_log_train_D)\n",
    "    scores_2.append(MLP_Regressor_2.score(X_test_D.values.reshape(-1,1), y_log_test_D))\n",
    "    #\n",
    "    MLP_Regressor_3.fit(X_train_D.values.reshape(-1,1), y_log_train_D)\n",
    "    scores_3.append(MLP_Regressor_3.score(X_test_D.values.reshape(-1,1), y_log_test_D))\n",
    "    #\n",
    "    MLP_Regressor_4.fit(X_train_D.values.reshape(-1,1), y_log_train_D)\n",
    "    scores_4.append(MLP_Regressor_4.score(X_test_D.values.reshape(-1,1), y_log_test_D))\n",
    "    #\n",
    "    MLP_Regressor_5.fit(X_train_D.values.reshape(-1,1), y_log_train_D)\n",
    "    scores_5.append(MLP_Regressor_5.score(X_test_D.values.reshape(-1,1), y_log_test_D))\n",
    "\n",
    "print(  \"Average score for MLP_Regressor_1:\",sum(scores_1)/8,\n",
    "      \"\\nAverage score for MLP_Regressor_2:\",sum(scores_2)/8,\n",
    "      \"\\nAverage score for MLP_Regressor_3:\",sum(scores_3)/8,\n",
    "      \"\\nAverage score for MLP_Regressor_4:\",sum(scores_4)/8,\n",
    "      \"\\nAverage score for MLP_Regressor_5:\",sum(scores_5)/8)    \n"
   ]
  },
  {
   "cell_type": "markdown",
   "metadata": {
    "colab_type": "text",
    "id": "wjVdrPCMe9A8"
   },
   "source": [
    "**After the validation we chosed best parameter for MLP (MLP_Regressor_2) to evaluate:**"
   ]
  },
  {
   "cell_type": "markdown",
   "metadata": {
    "colab_type": "text",
    "id": "0fb39-KxIRsW"
   },
   "source": [
    "### Evaluation"
   ]
  },
  {
   "cell_type": "code",
   "execution_count": 40,
   "metadata": {
    "colab": {
     "base_uri": "https://localhost:8080/",
     "height": 34
    },
    "colab_type": "code",
    "id": "kBj5BtNaeAx5",
    "outputId": "df5b9009-3654-4cf4-977b-b04504839e38"
   },
   "outputs": [
    {
     "name": "stdout",
     "output_type": "stream",
     "text": [
      "Final Evaluation Score for MLP Regression : 0.9998623441881356\n"
     ]
    }
   ],
   "source": [
    "\n",
    "MLP_Regressor_D = MLPRegressor(hidden_layer_sizes=(5), activation='tanh', solver='lbfgs' ,learning_rate_init=0.01,\n",
    "                               max_iter=1000,random_state=93, validation_fraction=0.1)\n",
    "MLP_Regressor_D.fit(x_death.values.reshape(-1,1), y_log_D)\n",
    "y_test_deaths_log=np.log10(y_test_deaths)\n",
    "evaluation_6 =MLP_Regressor_D.predict(x_test_deaths.values.reshape(-1,1))\n",
    "score=MLP_Regressor_D.score(x_test_deaths.values.reshape(-1,1), y_test_deaths_log)   \n",
    "print(\"Final Evaluation Score for MLP Regression :\",score)"
   ]
  },
  {
   "cell_type": "markdown",
   "metadata": {
    "colab_type": "text",
    "id": "GiVNLRWvSO8Y"
   },
   "source": [
    "### Prediction for new days"
   ]
  },
  {
   "cell_type": "code",
   "execution_count": 41,
   "metadata": {
    "colab": {
     "base_uri": "https://localhost:8080/",
     "height": 151
    },
    "colab_type": "code",
    "id": "I9wyQTvpSQLn",
    "outputId": "2402717e-7ccc-40e5-8149-bc2226b92e51"
   },
   "outputs": [
    {
     "name": "stdout",
     "output_type": "stream",
     "text": [
      "Evaluation for expecting 6 days in future in MLP_Regression:\n",
      "day [60] = 63629\n",
      "day [61] = 65503\n",
      "day [62] = 67337\n",
      "day [63] = 69130\n",
      "day [64] = 70878\n",
      "day [65] = 72581\n",
      "day [67] = 75843\n"
     ]
    }
   ],
   "source": [
    "print('Evaluation for expecting 6 days in future in MLP_Regression:')\n",
    "for predict in x_prediction2:\n",
    "  print('day',predict,'=',int(10**MLP_Regressor_D.predict([predict])))"
   ]
  },
  {
   "cell_type": "markdown",
   "metadata": {
    "colab_type": "text",
    "id": "z7sIVawoptRV"
   },
   "source": [
    "### plot"
   ]
  },
  {
   "cell_type": "markdown",
   "metadata": {
    "colab_type": "text",
    "id": "HpujqmbJbhwC"
   },
   "source": [
    "Here the data are displayed in logarithmic representation"
   ]
  },
  {
   "cell_type": "code",
   "execution_count": 42,
   "metadata": {
    "colab": {
     "base_uri": "https://localhost:8080/",
     "height": 279
    },
    "colab_type": "code",
    "id": "ckTpDz92pvp8",
    "outputId": "59f23223-4be8-459d-93be-87d2908b36e5"
   },
   "outputs": [
    {
     "data": {
      "image/png": "[encoded data removed]",
      "text/plain": [
       "<Figure size 432x288 with 1 Axes>"
      ]
     },
     "metadata": {
      "needs_background": "light"
     },
     "output_type": "display_data"
    }
   ],
   "source": [
    "predicted6 = MLP_Regressor_D.predict(x_death.values.reshape(-1,1))\n",
    "plt.plot(x_death, y_death, 'o-',label='data set')\n",
    "plt.plot(x_death, 10**predicted6,c='#ff0000',label='MLP_Regressor_D')\n",
    "plt.legend()\n",
    "plt.xlabel('Number of Day')\n",
    "plt.ylabel('Predict value in log')\n",
    "plt.show()"
   ]
  },
  {
   "cell_type": "code",
   "execution_count": 43,
   "metadata": {
    "colab": {
     "base_uri": "https://localhost:8080/",
     "height": 279
    },
    "colab_type": "code",
    "id": "KRbEl0QiY-LT",
    "outputId": "8eab0988-1d50-44f7-a764-de68b6f51b1e"
   },
   "outputs": [
    {
     "data": {
      "image/png": "[encoded data removed]",
      "text/plain": [
       "<Figure size 432x288 with 1 Axes>"
      ]
     },
     "metadata": {
      "needs_background": "light"
     },
     "output_type": "display_data"
    }
   ],
   "source": [
    "plt.plot(x_death, 10**predicted6,label='MLP_Regressor_D')\n",
    "plt.scatter(x_test_deaths, 10**evaluation_6 ,s=60, c='#ff0000',label='Predict values')\n",
    "plt.scatter(x_test_deaths, y_test_deaths ,s=50, c='#003300',label='Original test values')\n",
    "plt.legend()\n",
    "plt.xlabel('Number of Day')\n",
    "plt.ylabel('Predict value in Log')\n",
    "plt.show()"
   ]
  },
  {
   "cell_type": "markdown",
   "metadata": {
    "colab_type": "text",
    "id": "b421ydtrrYaM"
   },
   "source": [
    "## **Conclusion**"
   ]
  },
  {
   "cell_type": "code",
   "execution_count": 44,
   "metadata": {
    "colab": {
     "base_uri": "https://localhost:8080/",
     "height": 313
    },
    "colab_type": "code",
    "id": "tlc13DtVsiop",
    "outputId": "c6d31ff0-f648-4e48-c6f6-f29a976ee9d2"
   },
   "outputs": [
    {
     "name": "stdout",
     "output_type": "stream",
     "text": [
      "\n",
      "\t   The Three models in exponantial case \n"
     ]
    },
    {
     "data": {
      "image/png": "[encoded data removed]",
      "text/plain": [
       "<Figure size 432x288 with 1 Axes>"
      ]
     },
     "metadata": {
      "needs_background": "light"
     },
     "output_type": "display_data"
    }
   ],
   "source": [
    "print(\"\\n\\t   The Three models in exponantial case \")\n",
    "plt.plot(x_death[:45], 10**predicted4[:45],label='linear_regression')\n",
    "plt.plot(x_death, predicted5,label='SVR')\n",
    "plt.plot(x_death, 10**predicted6,label='MLPRegressor (THE BEST)')\n",
    "plt.legend()\n",
    "plt.xlabel('Number of Day')\n",
    "plt.ylabel('Predict value')\n",
    "plt.show()\n"
   ]
  },
  {
   "cell_type": "code",
   "execution_count": 45,
   "metadata": {
    "colab": {
     "base_uri": "https://localhost:8080/",
     "height": 313
    },
    "colab_type": "code",
    "id": "hnWYgXNK-EJx",
    "outputId": "c0c7127f-f3f9-48b2-b00e-aa005c1eca48"
   },
   "outputs": [
    {
     "name": "stdout",
     "output_type": "stream",
     "text": [
      "\n",
      "\t   The Three models in Log case \n"
     ]
    },
    {
     "data": {
      "image/png": "[encoded data removed]",
      "text/plain": [
       "<Figure size 432x288 with 1 Axes>"
      ]
     },
     "metadata": {
      "needs_background": "light"
     },
     "output_type": "display_data"
    }
   ],
   "source": [
    "print(\"\\n\\t   The Three models in Log case \")\n",
    "plt.plot(x_death, predicted4,label='linear_regression')\n",
    "plt.plot(x_death, np.log10(predicted5),label='SVR')\n",
    "plt.plot(x_death, predicted6,label='MLPRegressor (THE BEST)')\n",
    "plt.legend()\n",
    "plt.xlabel('Number of Day')\n",
    "plt.ylabel('Predict value')\n",
    "plt.show()"
   ]
  },
  {
   "cell_type": "code",
   "execution_count": 46,
   "metadata": {
    "colab": {
     "base_uri": "https://localhost:8080/",
     "height": 313
    },
    "colab_type": "code",
    "id": "S5QiC_U_Zt0c",
    "outputId": "daa3f27e-bd24-42b8-e1ef-9be25852f413"
   },
   "outputs": [
    {
     "name": "stdout",
     "output_type": "stream",
     "text": [
      "\n",
      "\t   The Best model (MLP Model) in exponantial case \n"
     ]
    },
    {
     "data": {
      "image/png": "[encoded data removed]",
      "text/plain": [
       "<Figure size 432x288 with 1 Axes>"
      ]
     },
     "metadata": {
      "needs_background": "light"
     },
     "output_type": "display_data"
    }
   ],
   "source": [
    "print(\"\\n\\t   The Best model (MLP Model) in exponantial case \")\n",
    "plt.plot(x_death, 10**predicted6,label='MLPRegressor (THE BEST)')\n",
    "plt.plot(x_prediction2, 10**MLP_Regressor_D.predict(x_prediction2),label='new day prediction ')\n",
    "plt.legend()\n",
    "plt.xlabel('Number of Day')\n",
    "plt.ylabel('Predict value')\n",
    "plt.show()\n",
    "\n",
    "\n"
   ]
  },
  {
   "cell_type": "code",
   "execution_count": 47,
   "metadata": {
    "colab": {
     "base_uri": "https://localhost:8080/",
     "height": 313
    },
    "colab_type": "code",
    "id": "KfKWV4vSaQGN",
    "outputId": "619ab5d5-7017-4008-cd71-c76963c2cb22"
   },
   "outputs": [
    {
     "name": "stdout",
     "output_type": "stream",
     "text": [
      "\n",
      "\t The Best model (MLP Model) in Log\n"
     ]
    },
    {
     "data": {
      "image/png": "[encoded data removed]",
      "text/plain": [
       "<Figure size 432x288 with 1 Axes>"
      ]
     },
     "metadata": {
      "needs_background": "light"
     },
     "output_type": "display_data"
    }
   ],
   "source": [
    "print(\"\\n\\t The Best model (MLP Model) in Log\")\n",
    "plt.plot(x_death, predicted6,label='MLPRegressor (THE BEST)')\n",
    "plt.plot(x_prediction2, MLP_Regressor_D.predict(x_prediction2), label='new day prediction')\n",
    "plt.legend()\n",
    "plt.xlabel('Number of Day')\n",
    "plt.ylabel('Predict value in log')\n",
    "plt.show()"
   ]
  },
  {
   "cell_type": "code",
   "execution_count": null,
   "metadata": {},
   "outputs": [],
   "source": []
  }
 ],
 "metadata": {
  "accelerator": "GPU",
  "colab": {
   "collapsed_sections": [],
   "include_colab_link": true,
   "name": " ML_PROJECT_COVID19.ipynb",
   "provenance": [],
   "toc_visible": true
  },
  "kernelspec": {
   "display_name": "Python 3 (ipykernel)",
   "language": "python",
   "name": "python3"
  },
  "language_info": {
   "codemirror_mode": {
    "name": "ipython",
    "version": 3
   },
   "file_extension": ".py",
   "mimetype": "text/x-python",
   "name": "python",
   "nbconvert_exporter": "python",
   "pygments_lexer": "ipython3",
   "version": "3.9.9"
  }
 },
 "nbformat": 4,
 "nbformat_minor": 1
}
